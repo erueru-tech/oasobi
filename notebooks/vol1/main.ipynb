{
 "cells": [
  {
   "cell_type": "markdown",
   "metadata": {},
   "source": [
    "## 事前準備"
   ]
  },
  {
   "cell_type": "markdown",
   "metadata": {},
   "source": [
    "ローカルのVSCodeで実行する想定。\n",
    "\n",
    "まず以下のコマンドでnotebook実行用の仮想環境構築。\n",
    "\n",
    "```bash\n",
    "$ cd /path/to/oasobi\n",
    "$ python -m venv .venv.notebooks.vol1\n",
    "$ source .venv.notebooks.vol1/bin/activate\n",
    "$ pip install -r notebooks/vol1/requirements.txt\n",
    "```\n",
    "\n",
    "仮想環境を構築したらVSCode上で上記カーネルを選択。"
   ]
  },
  {
   "cell_type": "markdown",
   "metadata": {},
   "source": [
    "## 検証"
   ]
  },
  {
   "cell_type": "markdown",
   "metadata": {},
   "source": [
    "Cline, Gemini, LangChainのドキュメントを読んで個人的にLLMは\n",
    "\n",
    "- チャットによる技術相談\n",
    "- 自然言語データをJSONや表形式などの構造化データに変換\n",
    "- ときどき分類タスク\n",
    "\n",
    "に使用するものと勝手に解釈することにした。\n",
    "\n",
    "そこで気になったのが大量の**指定したラベル**の中から条件に一致するラベルを正しく分類出来るのかという点。\n",
    "\n",
    "分類の実験に使える良い問題がないかChatGPTに相談したところ、PyPIに登録されてる全パッケージの名前が列挙されているページを教えてもらった。\n",
    "\n",
    "(以下のページは巨大であるため、開いてからしばらくするとブラウザがクラッシュするので注意)\n",
    "\n",
    "https://pypi.org/simple/\n",
    "\n",
    "これを使えば自分がよく知っている領域で分類タスクを評価できるので早速試してみる。\n",
    "\n",
    "ついでにパッケージ一覧をファイル出力するコードを作ってもらって以下にコピペ＆実行。\n",
    "\n",
    "ここで作成したファイルはプロンプト時に分類ラベルとして渡す。"
   ]
  },
  {
   "cell_type": "code",
   "execution_count": 1,
   "metadata": {},
   "outputs": [
    {
     "name": "stdout",
     "output_type": "stream",
     "text": [
      "628595 個のパッケージ名を all_packages.txt に保存しました。\n"
     ]
    }
   ],
   "source": [
    "import requests\n",
    "from bs4 import BeautifulSoup\n",
    "from pathlib import Path\n",
    "\n",
    "# PyPI SimpleインデックスのURL\n",
    "url = \"https://pypi.org/simple/\"\n",
    "\n",
    "# リクエストを送ってHTMLを取得\n",
    "response = requests.get(url)\n",
    "response.raise_for_status()\n",
    "\n",
    "# BeautifulSoupでHTMLを解析\n",
    "soup = BeautifulSoup(response.text, 'html.parser')\n",
    "\n",
    "# すべての<a>タグからパッケージ名を抽出\n",
    "packages = [a.text for a in soup.find_all('a')]\n",
    "\n",
    "# 出力先ファイルパス（ホームディレクトリに保存）\n",
    "output_path = Path.home() / \"all_packages.txt\"\n",
    "\n",
    "# ファイルに保存\n",
    "with open(output_path, \"w\", encoding=\"utf-8\") as f:\n",
    "    for package in packages:\n",
    "        f.write(package + \"\\n\")\n",
    "\n",
    "print(f\"{len(packages)} 個のパッケージ名を all_packages.txt に保存しました。\")"
   ]
  },
  {
   "cell_type": "markdown",
   "metadata": {},
   "source": [
    "上記出力結果より、かなり巨大な分類のテストが出来そう。"
   ]
  },
  {
   "cell_type": "markdown",
   "metadata": {},
   "source": [
    "あとはChatGPTに生成したファイルと共に以下のプロンプトを入力として実行。\n",
    "\n",
    "```\n",
    "all_packages.txtには1行ごとにPythonのパッケージ名が記述されている\n",
    "この中から{ニッチな技術トピック}に関連するPythonパッケージTOP5\n",
    "```\n",
    "\n",
    "次にプロンプトを新規に開始して、all_packages.txtを渡さずに以下のプロンプトを入力＆実行。\n",
    "\n",
    "```\n",
    "{ニッチな技術技術トピック}に関連するPythonパッケージTOP5\n",
    "```"
   ]
  },
  {
   "cell_type": "markdown",
   "metadata": {},
   "source": [
    "## 結果"
   ]
  },
  {
   "cell_type": "markdown",
   "metadata": {},
   "source": [
    "上記プロンプトでは`{ニッチな技術トピック}`とぼかしているが、このキーワードはある会社が開発した特定のパッケージが必ず上位に来ると予想して選んだものになる。\n",
    "\n",
    "なお、all_packages.txtを使用した場合の推薦リストは全くのハズレだったのに対して、テキストだけの指示では上位が完璧な正解という結果になった。\n",
    "\n",
    "試しにプロンプトを変更して\n",
    "\n",
    "```\n",
    "{会社名}が開発した{ニッチな技術技術トピック}に関連するPythonパッケージTOP5\n",
    "```\n",
    "\n",
    "とさらにヒントを与えて試したが結果は同じだった。\n",
    "\n",
    "気になる点として、all_packages.txtを渡さないケースでは`ウェブを検索...`みたいな表示がされたので、もしかしたらRAGが影響しているのではとも思った。\n",
    "\n",
    "個人的にはこちらが指定したラベルの中から正しいものを選んでくれないとシステム的に制御が難しいので残念な結果。\n",
    "\n",
    "もっとも少ない実験で決めつけるのもどうかと思うが。\n",
    "\n",
    "あとGeminiなり他のモデルを使えば結果変わるかも。"
   ]
  }
 ],
 "metadata": {
  "kernelspec": {
   "display_name": ".venv.notebooks.vol1",
   "language": "python",
   "name": "python3"
  },
  "language_info": {
   "codemirror_mode": {
    "name": "ipython",
    "version": 3
   },
   "file_extension": ".py",
   "mimetype": "text/x-python",
   "name": "python",
   "nbconvert_exporter": "python",
   "pygments_lexer": "ipython3",
   "version": "3.13.0"
  }
 },
 "nbformat": 4,
 "nbformat_minor": 2
}
