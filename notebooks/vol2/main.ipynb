{
 "cells": [
  {
   "cell_type": "markdown",
   "id": "16b99053",
   "metadata": {},
   "source": [
    "このnotebookは[ブログ記事](https://zenn.dev/erueru_tech/articles/ed8dec5e5cbda6)の内容を実行可能にするために用意したものとなる。"
   ]
  },
  {
   "cell_type": "markdown",
   "id": "015406d8",
   "metadata": {},
   "source": [
    "## 事前準備"
   ]
  },
  {
   "cell_type": "markdown",
   "id": "8bbbcab7",
   "metadata": {},
   "source": [
    "macOS M3 silicon, VSCodeで動作確認。\n",
    "\n",
    "この検証で使用するEconMLがPython3.13以上に対応していないので3.12を使用。\n",
    "\n",
    "なおPythonのバージョン管理はpyenvで行なっていて、以下のコマンドでPythonのバージョンを指定する。\n",
    "\n",
    "```bash\n",
    "$ cd /path/to/oasobi\n",
    "$ pyenv install --list\n",
    "$ pyenv install 3.12.8\n",
    "$ pyenv local 3.12.8\n",
    "$ python -V\n",
    "```\n",
    "\n",
    "次に以下のコマンドでnotebook実行用の仮想環境構築。\n",
    "\n",
    "```bash\n",
    "$ python -m venv .venv.notebooks.vol2\n",
    "$ source .venv.notebooks.vol2/bin/activate\n",
    "$ pip install -r notebooks/vol2/requirements.txt\n",
    "```\n",
    "\n",
    "仮想環境を構築したらVSCode上で上記カーネルを選択。"
   ]
  },
  {
   "cell_type": "markdown",
   "id": "8269a624",
   "metadata": {},
   "source": [
    "## 検証"
   ]
  },
  {
   "cell_type": "code",
   "execution_count": 1,
   "id": "b9599d45",
   "metadata": {},
   "outputs": [
    {
     "name": "stderr",
     "output_type": "stream",
     "text": [
      "IProgress not found. Please update jupyter and ipywidgets. See https://ipywidgets.readthedocs.io/en/stable/user_install.html\n"
     ]
    }
   ],
   "source": [
    "import numpy as np\n",
    "import numpy.typing as npt\n",
    "import pandas as pd\n",
    "from econml.metalearners import TLearner\n",
    "from lightgbm import LGBMRegressor\n",
    "from sklearn.model_selection import train_test_split"
   ]
  },
  {
   "cell_type": "code",
   "execution_count": 2,
   "id": "3664107f",
   "metadata": {},
   "outputs": [],
   "source": [
    "REPOSITORY_URL = \"https://raw.githubusercontent.com/PacktPublishing/Causal-Inference-and-Discovery-in-Python/refs/heads/main/data\""
   ]
  },
  {
   "cell_type": "markdown",
   "id": "35295fa7",
   "metadata": {},
   "source": [
    "### MineThatData データセット"
   ]
  },
  {
   "cell_type": "code",
   "execution_count": 3,
   "id": "f537626c",
   "metadata": {},
   "outputs": [
    {
     "name": "stdout",
     "output_type": "stream",
     "text": [
      "hillstrom.shape: (64000, 12)\n"
     ]
    },
    {
     "data": {
      "text/html": [
       "<div>\n",
       "<style scoped>\n",
       "    .dataframe tbody tr th:only-of-type {\n",
       "        vertical-align: middle;\n",
       "    }\n",
       "\n",
       "    .dataframe tbody tr th {\n",
       "        vertical-align: top;\n",
       "    }\n",
       "\n",
       "    .dataframe thead th {\n",
       "        text-align: right;\n",
       "    }\n",
       "</style>\n",
       "<table border=\"1\" class=\"dataframe\">\n",
       "  <thead>\n",
       "    <tr style=\"text-align: right;\">\n",
       "      <th></th>\n",
       "      <th>recency</th>\n",
       "      <th>history_segment</th>\n",
       "      <th>history</th>\n",
       "      <th>mens</th>\n",
       "      <th>womens</th>\n",
       "      <th>zip_code</th>\n",
       "      <th>newbie</th>\n",
       "      <th>channel</th>\n",
       "      <th>segment</th>\n",
       "      <th>visit</th>\n",
       "      <th>conversion</th>\n",
       "      <th>spend</th>\n",
       "    </tr>\n",
       "  </thead>\n",
       "  <tbody>\n",
       "    <tr>\n",
       "      <th>0</th>\n",
       "      <td>10</td>\n",
       "      <td>2) $100 - $200</td>\n",
       "      <td>142.44</td>\n",
       "      <td>1</td>\n",
       "      <td>0</td>\n",
       "      <td>Surburban</td>\n",
       "      <td>0</td>\n",
       "      <td>Phone</td>\n",
       "      <td>Womens E-Mail</td>\n",
       "      <td>0</td>\n",
       "      <td>0</td>\n",
       "      <td>0.0</td>\n",
       "    </tr>\n",
       "    <tr>\n",
       "      <th>1</th>\n",
       "      <td>6</td>\n",
       "      <td>3) $200 - $350</td>\n",
       "      <td>329.08</td>\n",
       "      <td>1</td>\n",
       "      <td>1</td>\n",
       "      <td>Rural</td>\n",
       "      <td>1</td>\n",
       "      <td>Web</td>\n",
       "      <td>No E-Mail</td>\n",
       "      <td>0</td>\n",
       "      <td>0</td>\n",
       "      <td>0.0</td>\n",
       "    </tr>\n",
       "    <tr>\n",
       "      <th>2</th>\n",
       "      <td>7</td>\n",
       "      <td>2) $100 - $200</td>\n",
       "      <td>180.65</td>\n",
       "      <td>0</td>\n",
       "      <td>1</td>\n",
       "      <td>Surburban</td>\n",
       "      <td>1</td>\n",
       "      <td>Web</td>\n",
       "      <td>Womens E-Mail</td>\n",
       "      <td>0</td>\n",
       "      <td>0</td>\n",
       "      <td>0.0</td>\n",
       "    </tr>\n",
       "    <tr>\n",
       "      <th>3</th>\n",
       "      <td>9</td>\n",
       "      <td>5) $500 - $750</td>\n",
       "      <td>675.83</td>\n",
       "      <td>1</td>\n",
       "      <td>0</td>\n",
       "      <td>Rural</td>\n",
       "      <td>1</td>\n",
       "      <td>Web</td>\n",
       "      <td>Mens E-Mail</td>\n",
       "      <td>0</td>\n",
       "      <td>0</td>\n",
       "      <td>0.0</td>\n",
       "    </tr>\n",
       "    <tr>\n",
       "      <th>4</th>\n",
       "      <td>2</td>\n",
       "      <td>1) $0 - $100</td>\n",
       "      <td>45.34</td>\n",
       "      <td>1</td>\n",
       "      <td>0</td>\n",
       "      <td>Urban</td>\n",
       "      <td>0</td>\n",
       "      <td>Web</td>\n",
       "      <td>Womens E-Mail</td>\n",
       "      <td>0</td>\n",
       "      <td>0</td>\n",
       "      <td>0.0</td>\n",
       "    </tr>\n",
       "  </tbody>\n",
       "</table>\n",
       "</div>"
      ],
      "text/plain": [
       "   recency history_segment  history  mens  womens   zip_code  newbie channel  \\\n",
       "0       10  2) $100 - $200   142.44     1       0  Surburban       0   Phone   \n",
       "1        6  3) $200 - $350   329.08     1       1      Rural       1     Web   \n",
       "2        7  2) $100 - $200   180.65     0       1  Surburban       1     Web   \n",
       "3        9  5) $500 - $750   675.83     1       0      Rural       1     Web   \n",
       "4        2    1) $0 - $100    45.34     1       0      Urban       0     Web   \n",
       "\n",
       "         segment  visit  conversion  spend  \n",
       "0  Womens E-Mail      0           0    0.0  \n",
       "1      No E-Mail      0           0    0.0  \n",
       "2  Womens E-Mail      0           0    0.0  \n",
       "3    Mens E-Mail      0           0    0.0  \n",
       "4  Womens E-Mail      0           0    0.0  "
      ]
     },
     "execution_count": 3,
     "metadata": {},
     "output_type": "execute_result"
    }
   ],
   "source": [
    "hillstrom = pd.read_csv(f\"{REPOSITORY_URL}/hillstrom_original.csv\")\n",
    "print(\"hillstrom.shape:\", hillstrom.shape)\n",
    "hillstrom.head()"
   ]
  },
  {
   "cell_type": "markdown",
   "id": "9890aa4b",
   "metadata": {},
   "source": [
    "MineThatDataデータセットに対して、zip_codeやchannelのワンホットエンコーディング、segmentの値を数値に変換といった前処理がすでに完了しているデータセットは以下。\n",
    "\n",
    "なおsegmentはtreatmentという名前に変わっていて、値は No E-Mail -> 0, Womens E-Mail -> 1, Mens E-Mail -> 2 にそれぞれ変換されている。"
   ]
  },
  {
   "cell_type": "code",
   "execution_count": 4,
   "id": "008d6242",
   "metadata": {},
   "outputs": [
    {
     "name": "stdout",
     "output_type": "stream",
     "text": [
      "hillstrom_clean.shape: (64000, 15)\n"
     ]
    },
    {
     "data": {
      "text/html": [
       "<div>\n",
       "<style scoped>\n",
       "    .dataframe tbody tr th:only-of-type {\n",
       "        vertical-align: middle;\n",
       "    }\n",
       "\n",
       "    .dataframe tbody tr th {\n",
       "        vertical-align: top;\n",
       "    }\n",
       "\n",
       "    .dataframe thead th {\n",
       "        text-align: right;\n",
       "    }\n",
       "</style>\n",
       "<table border=\"1\" class=\"dataframe\">\n",
       "  <thead>\n",
       "    <tr style=\"text-align: right;\">\n",
       "      <th></th>\n",
       "      <th>recency</th>\n",
       "      <th>history</th>\n",
       "      <th>mens</th>\n",
       "      <th>womens</th>\n",
       "      <th>newbie</th>\n",
       "      <th>visit</th>\n",
       "      <th>conversion</th>\n",
       "      <th>spend</th>\n",
       "      <th>zip_code__rural</th>\n",
       "      <th>zip_code__surburban</th>\n",
       "      <th>zip_code__urban</th>\n",
       "      <th>channel__multichannel</th>\n",
       "      <th>channel__phone</th>\n",
       "      <th>channel__web</th>\n",
       "      <th>treatment</th>\n",
       "    </tr>\n",
       "  </thead>\n",
       "  <tbody>\n",
       "    <tr>\n",
       "      <th>0</th>\n",
       "      <td>10</td>\n",
       "      <td>142.44</td>\n",
       "      <td>1</td>\n",
       "      <td>0</td>\n",
       "      <td>0</td>\n",
       "      <td>0</td>\n",
       "      <td>0</td>\n",
       "      <td>0.0</td>\n",
       "      <td>0</td>\n",
       "      <td>1</td>\n",
       "      <td>0</td>\n",
       "      <td>0</td>\n",
       "      <td>1</td>\n",
       "      <td>0</td>\n",
       "      <td>1</td>\n",
       "    </tr>\n",
       "    <tr>\n",
       "      <th>1</th>\n",
       "      <td>6</td>\n",
       "      <td>329.08</td>\n",
       "      <td>1</td>\n",
       "      <td>1</td>\n",
       "      <td>1</td>\n",
       "      <td>0</td>\n",
       "      <td>0</td>\n",
       "      <td>0.0</td>\n",
       "      <td>1</td>\n",
       "      <td>0</td>\n",
       "      <td>0</td>\n",
       "      <td>0</td>\n",
       "      <td>0</td>\n",
       "      <td>1</td>\n",
       "      <td>0</td>\n",
       "    </tr>\n",
       "    <tr>\n",
       "      <th>2</th>\n",
       "      <td>7</td>\n",
       "      <td>180.65</td>\n",
       "      <td>0</td>\n",
       "      <td>1</td>\n",
       "      <td>1</td>\n",
       "      <td>0</td>\n",
       "      <td>0</td>\n",
       "      <td>0.0</td>\n",
       "      <td>0</td>\n",
       "      <td>1</td>\n",
       "      <td>0</td>\n",
       "      <td>0</td>\n",
       "      <td>0</td>\n",
       "      <td>1</td>\n",
       "      <td>1</td>\n",
       "    </tr>\n",
       "    <tr>\n",
       "      <th>3</th>\n",
       "      <td>9</td>\n",
       "      <td>675.83</td>\n",
       "      <td>1</td>\n",
       "      <td>0</td>\n",
       "      <td>1</td>\n",
       "      <td>0</td>\n",
       "      <td>0</td>\n",
       "      <td>0.0</td>\n",
       "      <td>1</td>\n",
       "      <td>0</td>\n",
       "      <td>0</td>\n",
       "      <td>0</td>\n",
       "      <td>0</td>\n",
       "      <td>1</td>\n",
       "      <td>2</td>\n",
       "    </tr>\n",
       "    <tr>\n",
       "      <th>4</th>\n",
       "      <td>2</td>\n",
       "      <td>45.34</td>\n",
       "      <td>1</td>\n",
       "      <td>0</td>\n",
       "      <td>0</td>\n",
       "      <td>0</td>\n",
       "      <td>0</td>\n",
       "      <td>0.0</td>\n",
       "      <td>0</td>\n",
       "      <td>0</td>\n",
       "      <td>1</td>\n",
       "      <td>0</td>\n",
       "      <td>0</td>\n",
       "      <td>1</td>\n",
       "      <td>1</td>\n",
       "    </tr>\n",
       "  </tbody>\n",
       "</table>\n",
       "</div>"
      ],
      "text/plain": [
       "   recency  history  mens  womens  newbie  visit  conversion  spend  \\\n",
       "0       10   142.44     1       0       0      0           0    0.0   \n",
       "1        6   329.08     1       1       1      0           0    0.0   \n",
       "2        7   180.65     0       1       1      0           0    0.0   \n",
       "3        9   675.83     1       0       1      0           0    0.0   \n",
       "4        2    45.34     1       0       0      0           0    0.0   \n",
       "\n",
       "   zip_code__rural  zip_code__surburban  zip_code__urban  \\\n",
       "0                0                    1                0   \n",
       "1                1                    0                0   \n",
       "2                0                    1                0   \n",
       "3                1                    0                0   \n",
       "4                0                    0                1   \n",
       "\n",
       "   channel__multichannel  channel__phone  channel__web  treatment  \n",
       "0                      0               1             0          1  \n",
       "1                      0               0             1          0  \n",
       "2                      0               0             1          1  \n",
       "3                      0               0             1          2  \n",
       "4                      0               0             1          1  "
      ]
     },
     "execution_count": 4,
     "metadata": {},
     "output_type": "execute_result"
    }
   ],
   "source": [
    "hillstrom_clean = pd.read_csv(f\"{REPOSITORY_URL}/hillstrom_clean.csv\")\n",
    "print(\"hillstrom_clean.shape:\", hillstrom_clean.shape)\n",
    "hillstrom_clean.head()"
   ]
  },
  {
   "cell_type": "markdown",
   "id": "c4e55447",
   "metadata": {},
   "source": [
    "### ERMの計算式"
   ]
  },
  {
   "cell_type": "markdown",
   "id": "106da025",
   "metadata": {},
   "source": [
    "以下の数式をPythonで実装。\n",
    "\n",
    "$$Z = \\sum_{t=0}^K \\frac{1}{P_t}Y \\mathbb{I}_{h(x)=t}\\mathbb{I}_{T=t}$$\n",
    "\n",
    "実装は書籍:[Pythonライブラリによる因果推論・因果探索[概念と実践] 因果機械学習の鍵を解く](https://book.impress.co.jp/books/1123101074)の[notebook](https://github.com/PacktPublishing/Causal-Inference-and-Discovery-in-Python/blob/main/Chapter_10.ipynb)を参考にした。"
   ]
  },
  {
   "cell_type": "code",
   "execution_count": 5,
   "id": "b8f43ccf",
   "metadata": {},
   "outputs": [],
   "source": [
    "def get_expected_response(\n",
    "    y_true: npt.NDArray[np.float64],\n",
    "    t_true: npt.NDArray[np.int64],\n",
    "    t_pred: npt.NDArray[np.int64],\n",
    ") -> float:\n",
    "    \"\"\"アップリフトモデルのaverage expected responseを計算して返却する。\n",
    "    proposed by:\n",
    "    Zhao, Y., Fang, X., & Simchi-Levi, D. (2017). Uplift Modeling with Multiple Treatments and General Response Types.\n",
    "    Proceedings of the 2017 SIAM International Conference on Data Mining, 588-596.\n",
    "    Society for Industrial and Applied Mathematics.\n",
    "\n",
    "    Args:\n",
    "        y_true: 性能評価に使用するデータセットのアウトカムをあらわす列\n",
    "        t_true: 性能評価に使用するデータセットの処置をあらわす列\n",
    "        t_pred: モデルが予測した処置\n",
    "\n",
    "    Returns:\n",
    "        average expected response\n",
    "\n",
    "    References:\n",
    "        https://github.com/PacktPublishing/Causal-Inference-and-Discovery-in-Python/blob/main/Chapter_10.ipynb\n",
    "    \"\"\"\n",
    "    proba_t = pd.Series(t_true).value_counts() / t_true.shape[0]\n",
    "    treatments = proba_t.index.values\n",
    "\n",
    "    z_vals = 0\n",
    "    for treatment in treatments:\n",
    "        h_indicator = t_pred == treatment\n",
    "        t_indicator = t_true == treatment\n",
    "        t_proba_local = proba_t[treatment]\n",
    "\n",
    "        z_vals += (1 / t_proba_local) * y_true * h_indicator * t_indicator\n",
    "\n",
    "    return z_vals.mean()"
   ]
  },
  {
   "cell_type": "markdown",
   "id": "1c26654b",
   "metadata": {},
   "source": [
    "各処置の処置割り当て比率を計算する処理を抜き出して確認。"
   ]
  },
  {
   "cell_type": "code",
   "execution_count": 6,
   "id": "02def0c3",
   "metadata": {},
   "outputs": [
    {
     "data": {
      "text/plain": [
       "treatment\n",
       "1    0.334172\n",
       "2    0.332922\n",
       "0    0.332906\n",
       "Name: count, dtype: float64"
      ]
     },
     "execution_count": 6,
     "metadata": {},
     "output_type": "execute_result"
    }
   ],
   "source": [
    "t_true = hillstrom_clean[\"treatment\"]\n",
    "pd.Series(t_true).value_counts() / t_true.shape[0]"
   ]
  },
  {
   "cell_type": "markdown",
   "id": "b338ceab",
   "metadata": {},
   "source": [
    "試しに以下のような条件のMineThatData仕様のダミーデータを作って、ERMの計算式の挙動を追ってみる。\n",
    "\n",
    "- 各処置5人ずつ、合計15人の顧客を想定\n",
    "- 処置:0では1/5人がコンバージョン、処置:1では2/5人がコンバージョン、処置:2では4/5人がコンバージョンが発生"
   ]
  },
  {
   "cell_type": "code",
   "execution_count": 7,
   "id": "1cb0dca7",
   "metadata": {},
   "outputs": [],
   "source": [
    "def calc_expected_response(t_pred: npt.NDArray[np.int64]) -> None:\n",
    "    # 各処置5人ずつ、合計15人の顧客を想定\n",
    "    t_true = np.array([0, 0, 0, 0, 0] + [1, 1, 1, 1, 1] + [2, 2, 2, 2, 2])\n",
    "    # 処置:0では1/5人がコンバージョン、処置:1では2/5人がコンバージョン、処置:2では4/5人がコンバージョンが発生\n",
    "    y_true = np.array([1, 0, 0, 0, 0] + [1, 1, 0, 0, 0] + [1, 1, 1, 1, 0])\n",
    "    # MineThatData仕様のダミーデータと引数で渡された任意の処置リストでERMスコアを計算\n",
    "    expected_response = get_expected_response(y_true, t_true, t_pred)\n",
    "    print(f\"Expected Response: {expected_response:.4f}\")"
   ]
  },
  {
   "cell_type": "markdown",
   "id": "a4a4e88e",
   "metadata": {},
   "source": [
    "まず初めにMineThatData仕様のダミーデータの処置と、モデルが選択した処置リスト(t_pred)が完全に一致した場合のERMのスコアを確認してみる。"
   ]
  },
  {
   "cell_type": "code",
   "execution_count": 8,
   "id": "96a2b560",
   "metadata": {},
   "outputs": [
    {
     "name": "stdout",
     "output_type": "stream",
     "text": [
      "Expected Response: 1.4000\n"
     ]
    }
   ],
   "source": [
    "calc_expected_response(t_pred=np.array([0] * 5 + [1] * 5 + [2] * 5))"
   ]
  },
  {
   "cell_type": "markdown",
   "id": "6f4f902e",
   "metadata": {},
   "source": [
    "一方でMineThatData仕様のダミーデータの処置と、モデルが選択した処置リストが全く一致しなかった場合、もちろんスコアはゼロになる。"
   ]
  },
  {
   "cell_type": "code",
   "execution_count": 9,
   "id": "aecea78a",
   "metadata": {},
   "outputs": [
    {
     "name": "stdout",
     "output_type": "stream",
     "text": [
      "Expected Response: 0.0000\n"
     ]
    }
   ],
   "source": [
    "calc_expected_response(t_pred=np.array([2] * 5 + [0] * 5 + [1] * 5))"
   ]
  },
  {
   "cell_type": "markdown",
   "id": "8b7c30c5",
   "metadata": {},
   "source": [
    "なお上記テストはテスト設計に問題がある。\n",
    "\n",
    "実際のところ、評価データセットの処置とモデルが選択した処置が一致する確率は常に約33%になることが以下のコードで確認できる。"
   ]
  },
  {
   "cell_type": "code",
   "execution_count": 10,
   "id": "ceaed3b2",
   "metadata": {},
   "outputs": [
    {
     "name": "stdout",
     "output_type": "stream",
     "text": [
      "0.334125\n"
     ]
    }
   ],
   "source": [
    "# 試しにproba_tに[0.50, 0.35, 0.15]や[1.00, 0.00, 0.00]などを指定しても、処置が一致する確率は常に約33%になる\n",
    "proba_t = [0.33, 0.33, 0.34]\n",
    "# モデルが選択した処置リストに見立てた値\n",
    "t_pred = np.random.default_rng(0).choice(\n",
    "    [0, 1, 2], size=hillstrom_clean.shape[0], p=proba_t\n",
    ")\n",
    "# 処置が一致した数 / データ総数\n",
    "print((hillstrom_clean[\"treatment\"] == t_pred).sum() / len(hillstrom_clean))"
   ]
  },
  {
   "cell_type": "markdown",
   "id": "9a7546c1",
   "metadata": {},
   "source": [
    "以下のCTRはERMのスコア加算が行われる確率と一致する。\n",
    "\n",
    "(詳細はブログ記事参照)"
   ]
  },
  {
   "cell_type": "code",
   "execution_count": 11,
   "id": "df6b9363",
   "metadata": {},
   "outputs": [
    {
     "data": {
      "text/html": [
       "<div>\n",
       "<style scoped>\n",
       "    .dataframe tbody tr th:only-of-type {\n",
       "        vertical-align: middle;\n",
       "    }\n",
       "\n",
       "    .dataframe tbody tr th {\n",
       "        vertical-align: top;\n",
       "    }\n",
       "\n",
       "    .dataframe thead th {\n",
       "        text-align: right;\n",
       "    }\n",
       "</style>\n",
       "<table border=\"1\" class=\"dataframe\">\n",
       "  <thead>\n",
       "    <tr style=\"text-align: right;\">\n",
       "      <th></th>\n",
       "      <th>womens</th>\n",
       "      <th>treatment</th>\n",
       "      <th>cv_cnt</th>\n",
       "      <th>total_cnt</th>\n",
       "      <th>cvr</th>\n",
       "    </tr>\n",
       "  </thead>\n",
       "  <tbody>\n",
       "    <tr>\n",
       "      <th>0</th>\n",
       "      <td>0</td>\n",
       "      <td>0</td>\n",
       "      <td>53</td>\n",
       "      <td>9638</td>\n",
       "      <td>0.005499</td>\n",
       "    </tr>\n",
       "    <tr>\n",
       "      <th>1</th>\n",
       "      <td>0</td>\n",
       "      <td>1</td>\n",
       "      <td>59</td>\n",
       "      <td>9622</td>\n",
       "      <td>0.006132</td>\n",
       "    </tr>\n",
       "    <tr>\n",
       "      <th>2</th>\n",
       "      <td>0</td>\n",
       "      <td>2</td>\n",
       "      <td>110</td>\n",
       "      <td>9558</td>\n",
       "      <td>0.011509</td>\n",
       "    </tr>\n",
       "    <tr>\n",
       "      <th>3</th>\n",
       "      <td>1</td>\n",
       "      <td>0</td>\n",
       "      <td>69</td>\n",
       "      <td>11668</td>\n",
       "      <td>0.005914</td>\n",
       "    </tr>\n",
       "    <tr>\n",
       "      <th>4</th>\n",
       "      <td>1</td>\n",
       "      <td>1</td>\n",
       "      <td>130</td>\n",
       "      <td>11765</td>\n",
       "      <td>0.011050</td>\n",
       "    </tr>\n",
       "    <tr>\n",
       "      <th>5</th>\n",
       "      <td>1</td>\n",
       "      <td>2</td>\n",
       "      <td>157</td>\n",
       "      <td>11749</td>\n",
       "      <td>0.013363</td>\n",
       "    </tr>\n",
       "  </tbody>\n",
       "</table>\n",
       "</div>"
      ],
      "text/plain": [
       "   womens  treatment  cv_cnt  total_cnt       cvr\n",
       "0       0          0      53       9638  0.005499\n",
       "1       0          1      59       9622  0.006132\n",
       "2       0          2     110       9558  0.011509\n",
       "3       1          0      69      11668  0.005914\n",
       "4       1          1     130      11765  0.011050\n",
       "5       1          2     157      11749  0.013363"
      ]
     },
     "execution_count": 11,
     "metadata": {},
     "output_type": "execute_result"
    }
   ],
   "source": [
    "hillstrom_clean.groupby([\"womens\", \"treatment\"]).agg(\n",
    "    cv_cnt=(\"conversion\", \"sum\"),\n",
    "    total_cnt=(\"conversion\", \"count\"),\n",
    "    cvr=(\"conversion\", lambda x: x.sum() / x.count() if x.count() > 0 else 0),\n",
    ").reset_index()"
   ]
  },
  {
   "cell_type": "code",
   "execution_count": 12,
   "id": "0383fb3e",
   "metadata": {},
   "outputs": [
    {
     "data": {
      "text/html": [
       "<div>\n",
       "<style scoped>\n",
       "    .dataframe tbody tr th:only-of-type {\n",
       "        vertical-align: middle;\n",
       "    }\n",
       "\n",
       "    .dataframe tbody tr th {\n",
       "        vertical-align: top;\n",
       "    }\n",
       "\n",
       "    .dataframe thead th {\n",
       "        text-align: right;\n",
       "    }\n",
       "</style>\n",
       "<table border=\"1\" class=\"dataframe\">\n",
       "  <thead>\n",
       "    <tr style=\"text-align: right;\">\n",
       "      <th></th>\n",
       "      <th>womens</th>\n",
       "      <th>mens</th>\n",
       "      <th>treatment</th>\n",
       "      <th>cv_cnt</th>\n",
       "      <th>total_cnt</th>\n",
       "      <th>cvr</th>\n",
       "    </tr>\n",
       "  </thead>\n",
       "  <tbody>\n",
       "    <tr>\n",
       "      <th>0</th>\n",
       "      <td>0</td>\n",
       "      <td>1</td>\n",
       "      <td>0</td>\n",
       "      <td>53</td>\n",
       "      <td>9638</td>\n",
       "      <td>0.005499</td>\n",
       "    </tr>\n",
       "    <tr>\n",
       "      <th>1</th>\n",
       "      <td>0</td>\n",
       "      <td>1</td>\n",
       "      <td>1</td>\n",
       "      <td>59</td>\n",
       "      <td>9622</td>\n",
       "      <td>0.006132</td>\n",
       "    </tr>\n",
       "    <tr>\n",
       "      <th>2</th>\n",
       "      <td>0</td>\n",
       "      <td>1</td>\n",
       "      <td>2</td>\n",
       "      <td>110</td>\n",
       "      <td>9558</td>\n",
       "      <td>0.011509</td>\n",
       "    </tr>\n",
       "    <tr>\n",
       "      <th>3</th>\n",
       "      <td>1</td>\n",
       "      <td>0</td>\n",
       "      <td>0</td>\n",
       "      <td>49</td>\n",
       "      <td>9519</td>\n",
       "      <td>0.005148</td>\n",
       "    </tr>\n",
       "    <tr>\n",
       "      <th>4</th>\n",
       "      <td>1</td>\n",
       "      <td>0</td>\n",
       "      <td>1</td>\n",
       "      <td>99</td>\n",
       "      <td>9647</td>\n",
       "      <td>0.010262</td>\n",
       "    </tr>\n",
       "    <tr>\n",
       "      <th>5</th>\n",
       "      <td>1</td>\n",
       "      <td>0</td>\n",
       "      <td>2</td>\n",
       "      <td>104</td>\n",
       "      <td>9568</td>\n",
       "      <td>0.010870</td>\n",
       "    </tr>\n",
       "    <tr>\n",
       "      <th>6</th>\n",
       "      <td>1</td>\n",
       "      <td>1</td>\n",
       "      <td>0</td>\n",
       "      <td>20</td>\n",
       "      <td>2149</td>\n",
       "      <td>0.009307</td>\n",
       "    </tr>\n",
       "    <tr>\n",
       "      <th>7</th>\n",
       "      <td>1</td>\n",
       "      <td>1</td>\n",
       "      <td>1</td>\n",
       "      <td>31</td>\n",
       "      <td>2118</td>\n",
       "      <td>0.014636</td>\n",
       "    </tr>\n",
       "    <tr>\n",
       "      <th>8</th>\n",
       "      <td>1</td>\n",
       "      <td>1</td>\n",
       "      <td>2</td>\n",
       "      <td>53</td>\n",
       "      <td>2181</td>\n",
       "      <td>0.024301</td>\n",
       "    </tr>\n",
       "  </tbody>\n",
       "</table>\n",
       "</div>"
      ],
      "text/plain": [
       "   womens  mens  treatment  cv_cnt  total_cnt       cvr\n",
       "0       0     1          0      53       9638  0.005499\n",
       "1       0     1          1      59       9622  0.006132\n",
       "2       0     1          2     110       9558  0.011509\n",
       "3       1     0          0      49       9519  0.005148\n",
       "4       1     0          1      99       9647  0.010262\n",
       "5       1     0          2     104       9568  0.010870\n",
       "6       1     1          0      20       2149  0.009307\n",
       "7       1     1          1      31       2118  0.014636\n",
       "8       1     1          2      53       2181  0.024301"
      ]
     },
     "execution_count": 12,
     "metadata": {},
     "output_type": "execute_result"
    }
   ],
   "source": [
    "# ちなみにwomens:0, mens:0のデータは存在しない\n",
    "hillstrom_clean.groupby([\"womens\", \"mens\", \"treatment\"]).agg(\n",
    "    cv_cnt=(\"conversion\", \"sum\"),\n",
    "    total_cnt=(\"conversion\", \"count\"),\n",
    "    cvr=(\"conversion\", lambda x: x.sum() / x.count() if x.count() > 0 else 0),\n",
    ").reset_index()"
   ]
  },
  {
   "cell_type": "markdown",
   "id": "62a2ee3e",
   "metadata": {},
   "source": [
    "## ERMによるT-Learnerモデルとランダム処置割り当ての性能比較"
   ]
  },
  {
   "cell_type": "markdown",
   "id": "db7e3a99",
   "metadata": {},
   "source": [
    "以下の処理は基本的に書籍の[notebook](https://github.com/PacktPublishing/Causal-Inference-and-Discovery-in-Python/blob/main/Chapter_10.ipynb)を参考にしている。"
   ]
  },
  {
   "cell_type": "code",
   "execution_count": 13,
   "id": "b92de6be",
   "metadata": {},
   "outputs": [],
   "source": [
    "# 多重共線性を考慮して冗長な列を削除\n",
    "hillstrom_clean = hillstrom_clean.drop([\"zip_code__urban\", \"channel__web\"], axis=1)\n",
    "\n",
    "# 特徴量、アウトカム、処置\n",
    "hillstrom_X = hillstrom_clean.drop(\n",
    "    [\"visit\", \"conversion\", \"spend\", \"treatment\"], axis=1\n",
    ")\n",
    "hillstrom_Y = hillstrom_clean[\"conversion\"]\n",
    "hillstrom_T = hillstrom_clean[\"treatment\"]\n",
    "\n",
    "# 学習用と評価用に半分に分割\n",
    "X_train, X_test, Y_train, Y_test, T_train, T_test = train_test_split(\n",
    "    hillstrom_X, hillstrom_Y, hillstrom_T, test_size=0.5\n",
    ")"
   ]
  },
  {
   "cell_type": "code",
   "execution_count": 14,
   "id": "69cd9b33",
   "metadata": {},
   "outputs": [],
   "source": [
    "def create_model(\n",
    "    random_state: int = 0,\n",
    "    n_estimators: int = 100,\n",
    "    max_depth: int = 10,\n",
    "    learning_rate: float = 0.01,\n",
    ") -> LGBMRegressor:\n",
    "    return LGBMRegressor(\n",
    "        random_state=random_state,\n",
    "        n_estimators=n_estimators,\n",
    "        max_depth=max_depth,\n",
    "        learning_rate=learning_rate,\n",
    "    )"
   ]
  },
  {
   "cell_type": "code",
   "execution_count": 15,
   "id": "981abd3c",
   "metadata": {},
   "outputs": [
    {
     "name": "stdout",
     "output_type": "stream",
     "text": [
      "[LightGBM] [Info] Auto-choosing col-wise multi-threading, the overhead of testing was 0.000578 seconds.\n",
      "You can set `force_col_wise=true` to remove the overhead.\n",
      "[LightGBM] [Info] Total Bins 282\n",
      "[LightGBM] [Info] Number of data points in the train set: 10680, number of used features: 9\n",
      "[LightGBM] [Info] Start training from score 0.005150\n",
      "[LightGBM] [Info] Auto-choosing row-wise multi-threading, the overhead of testing was 0.000116 seconds.\n",
      "You can set `force_row_wise=true` to remove the overhead.\n",
      "And if memory is not enough, you can set `force_col_wise=true`.\n",
      "[LightGBM] [Info] Total Bins 282\n",
      "[LightGBM] [Info] Number of data points in the train set: 10750, number of used features: 9\n",
      "[LightGBM] [Info] Start training from score 0.009488\n",
      "[LightGBM] [Info] Auto-choosing row-wise multi-threading, the overhead of testing was 0.000112 seconds.\n",
      "You can set `force_row_wise=true` to remove the overhead.\n",
      "And if memory is not enough, you can set `force_col_wise=true`.\n",
      "[LightGBM] [Info] Total Bins 282\n",
      "[LightGBM] [Info] Number of data points in the train set: 10570, number of used features: 9\n",
      "[LightGBM] [Info] Start training from score 0.012110\n"
     ]
    },
    {
     "data": {
      "text/plain": [
       "<econml.metalearners._metalearners.TLearner at 0x175fe4590>"
      ]
     },
     "execution_count": 15,
     "metadata": {},
     "output_type": "execute_result"
    }
   ],
   "source": [
    "t_learner = TLearner(models=[create_model() for _ in range(3)])\n",
    "t_learner.fit(Y=Y_train, T=T_train, X=X_train)"
   ]
  },
  {
   "cell_type": "code",
   "execution_count": 16,
   "id": "8ce2b393",
   "metadata": {},
   "outputs": [],
   "source": [
    "def get_effects_argmax(\n",
    "    effects_arrays: list[npt.NDArray[np.float64]], return_matrix: bool = False\n",
    ") -> npt.NDArray[np.int64] | tuple[npt.NDArray[np.int64], npt.NDArray[np.float64]]:\n",
    "    \"\"\"各行における処置効果の一番大きい処置のインデックスを返す\n",
    "\n",
    "    Args:\n",
    "        effects_arrays: 統制群と各処置群の処置効果量の差をあらわす配列 # shape: (顧客数, 処置数(ただし統制群除く))\n",
    "        return_matrix: 各行の処置効果量を完全に保持する行列を戻り値として返却するか\n",
    "\n",
    "    Returns:\n",
    "        各行の処置効果量最大の処置をあらわすインデックスの配列\n",
    "\n",
    "    References:\n",
    "        https://github.com/PacktPublishing/Causal-Inference-and-Discovery-in-Python/blob/main/Chapter_10.ipynb\n",
    "    \"\"\"\n",
    "\n",
    "    n_rows = effects_arrays[0].shape[0]\n",
    "    null_effect_array = np.zeros(n_rows)\n",
    "    stacked = np.stack([null_effect_array] + effects_arrays).T\n",
    "\n",
    "    if return_matrix:\n",
    "        return np.argmax(stacked, axis=1), stacked\n",
    "\n",
    "    return np.argmax(stacked, axis=1)"
   ]
  },
  {
   "cell_type": "code",
   "execution_count": 17,
   "id": "6a1358de",
   "metadata": {},
   "outputs": [
    {
     "name": "stdout",
     "output_type": "stream",
     "text": [
      "[T-Learner] Expected Response: 0.011936667524715741\n",
      "[Random] Expected Response: 0.008331025104548459\n"
     ]
    }
   ],
   "source": [
    "# 各顧客の特徴量に対する、処置0(No-Email)と処置1(Womens E-Mail)の予測処置効果量の差、\n",
    "# 処置0と処置2(Mens E-Mail)の予測処置効果量の差を求めている\n",
    "effects_argmax = get_effects_argmax(\n",
    "    [t_learner.effect(X_train, T0=0, T1=t) for t in [1, 2]]\n",
    ")\n",
    "\n",
    "# T-Learnerモデルで処置を割り当てた場合のERMスコアを計算\n",
    "expected_response = get_expected_response(\n",
    "    y_true=Y_test, t_true=T_test, t_pred=effects_argmax\n",
    ")\n",
    "print(f\"[T-Learner] Expected Response: {expected_response}\")\n",
    "\n",
    "# ランダムに処置を割り当てた場合のERMスコアを計算\n",
    "expected_response = get_expected_response(\n",
    "    y_true=Y_test,\n",
    "    t_true=T_test,\n",
    "    t_pred=np.random.default_rng(0).choice([0, 1, 2], size=len(T_test), p=proba_t),\n",
    ")\n",
    "print(f\"[Random] Expected Response: {expected_response}\")"
   ]
  }
 ],
 "metadata": {
  "kernelspec": {
   "display_name": ".venv.notebooks.vol2",
   "language": "python",
   "name": "python3"
  },
  "language_info": {
   "codemirror_mode": {
    "name": "ipython",
    "version": 3
   },
   "file_extension": ".py",
   "mimetype": "text/x-python",
   "name": "python",
   "nbconvert_exporter": "python",
   "pygments_lexer": "ipython3",
   "version": "3.12.8"
  }
 },
 "nbformat": 4,
 "nbformat_minor": 5
}
